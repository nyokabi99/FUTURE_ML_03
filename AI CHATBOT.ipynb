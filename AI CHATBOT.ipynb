{
 "cells": [
  {
   "cell_type": "markdown",
   "id": "0f046045-3e63-4285-bba2-435326b4b01f",
   "metadata": {},
   "source": [
    "## CHATBOT AI\n"
   ]
  },
  {
   "cell_type": "code",
   "execution_count": 1,
   "id": "56b9318d-f905-4ac3-a8eb-7d6df23c8453",
   "metadata": {},
   "outputs": [],
   "source": [
    "import pandas as pd"
   ]
  },
  {
   "cell_type": "code",
   "execution_count": 2,
   "id": "633294e3-273c-4407-b1a2-0d0ea0cfb418",
   "metadata": {},
   "outputs": [
    {
     "data": {
      "text/html": [
       "<div>\n",
       "<style scoped>\n",
       "    .dataframe tbody tr th:only-of-type {\n",
       "        vertical-align: middle;\n",
       "    }\n",
       "\n",
       "    .dataframe tbody tr th {\n",
       "        vertical-align: top;\n",
       "    }\n",
       "\n",
       "    .dataframe thead th {\n",
       "        text-align: right;\n",
       "    }\n",
       "</style>\n",
       "<table border=\"1\" class=\"dataframe\">\n",
       "  <thead>\n",
       "    <tr style=\"text-align: right;\">\n",
       "      <th></th>\n",
       "      <th>name</th>\n",
       "      <th>author</th>\n",
       "      <th>rating</th>\n",
       "      <th>year</th>\n",
       "      <th>genre</th>\n",
       "    </tr>\n",
       "  </thead>\n",
       "  <tbody>\n",
       "    <tr>\n",
       "      <th>0</th>\n",
       "      <td>10-Day Green Smoothie Cleanse</td>\n",
       "      <td>JJ Smith</td>\n",
       "      <td>4.7</td>\n",
       "      <td>2016</td>\n",
       "      <td>Non Fiction</td>\n",
       "    </tr>\n",
       "    <tr>\n",
       "      <th>1</th>\n",
       "      <td>11/22/63: A Novel</td>\n",
       "      <td>Stephen King</td>\n",
       "      <td>4.6</td>\n",
       "      <td>2011</td>\n",
       "      <td>Fiction</td>\n",
       "    </tr>\n",
       "    <tr>\n",
       "      <th>2</th>\n",
       "      <td>12 Rules for Life: An Antidote to Chaos</td>\n",
       "      <td>Jordan B. Peterson</td>\n",
       "      <td>4.7</td>\n",
       "      <td>2018</td>\n",
       "      <td>Non Fiction</td>\n",
       "    </tr>\n",
       "    <tr>\n",
       "      <th>3</th>\n",
       "      <td>1984 (Signet Classics)</td>\n",
       "      <td>George Orwell</td>\n",
       "      <td>4.7</td>\n",
       "      <td>2017</td>\n",
       "      <td>Fiction</td>\n",
       "    </tr>\n",
       "    <tr>\n",
       "      <th>4</th>\n",
       "      <td>5,000 Awesome Facts (About Everything!) (Natio...</td>\n",
       "      <td>National Geographic Kids</td>\n",
       "      <td>4.8</td>\n",
       "      <td>2019</td>\n",
       "      <td>Childrens</td>\n",
       "    </tr>\n",
       "  </tbody>\n",
       "</table>\n",
       "</div>"
      ],
      "text/plain": [
       "                                                name  \\\n",
       "0                      10-Day Green Smoothie Cleanse   \n",
       "1                                  11/22/63: A Novel   \n",
       "2            12 Rules for Life: An Antidote to Chaos   \n",
       "3                             1984 (Signet Classics)   \n",
       "4  5,000 Awesome Facts (About Everything!) (Natio...   \n",
       "\n",
       "                     author  rating  year        genre  \n",
       "0                  JJ Smith     4.7  2016  Non Fiction  \n",
       "1              Stephen King     4.6  2011      Fiction  \n",
       "2        Jordan B. Peterson     4.7  2018  Non Fiction  \n",
       "3             George Orwell     4.7  2017      Fiction  \n",
       "4  National Geographic Kids     4.8  2019    Childrens  "
      ]
     },
     "execution_count": 2,
     "metadata": {},
     "output_type": "execute_result"
    }
   ],
   "source": [
    "df=pd.read_csv(\"books.csv\")\n",
    "df.head()"
   ]
  },
  {
   "cell_type": "code",
   "execution_count": 3,
   "id": "b03f2945-1c6e-4ae9-9949-cfe5bb4c1bd3",
   "metadata": {},
   "outputs": [
    {
     "data": {
      "text/plain": [
       "Index(['name', 'author', 'rating', 'year', 'genre'], dtype='object')"
      ]
     },
     "execution_count": 3,
     "metadata": {},
     "output_type": "execute_result"
    }
   ],
   "source": [
    "df.columns"
   ]
  },
  {
   "cell_type": "code",
   "execution_count": 4,
   "id": "93fcc8cc-d711-493a-bf9f-d71a19083496",
   "metadata": {},
   "outputs": [
    {
     "name": "stdout",
     "output_type": "stream",
     "text": [
      "<class 'pandas.core.frame.DataFrame'>\n",
      "RangeIndex: 350 entries, 0 to 349\n",
      "Data columns (total 5 columns):\n",
      " #   Column  Non-Null Count  Dtype  \n",
      "---  ------  --------------  -----  \n",
      " 0   name    350 non-null    object \n",
      " 1   author  350 non-null    object \n",
      " 2   rating  350 non-null    float64\n",
      " 3   year    350 non-null    int64  \n",
      " 4   genre   350 non-null    object \n",
      "dtypes: float64(1), int64(1), object(3)\n",
      "memory usage: 13.8+ KB\n"
     ]
    }
   ],
   "source": [
    "df.info()"
   ]
  },
  {
   "cell_type": "code",
   "execution_count": 5,
   "id": "568b2862-adfc-4096-a785-9852d4605457",
   "metadata": {},
   "outputs": [
    {
     "data": {
      "text/plain": [
       "name      0\n",
       "author    0\n",
       "rating    0\n",
       "year      0\n",
       "genre     0\n",
       "dtype: int64"
      ]
     },
     "execution_count": 5,
     "metadata": {},
     "output_type": "execute_result"
    }
   ],
   "source": [
    "df.isnull().sum()"
   ]
  },
  {
   "cell_type": "code",
   "execution_count": 12,
   "id": "6bd2ecd8-21a4-4e6d-a0b0-1b31bef2cae5",
   "metadata": {},
   "outputs": [],
   "source": [
    "def recommend_books(genre=None, min_rating=0, year=None, num_books=10,author=None):\n",
    "    \n",
    "    # Filter based on user preferences\n",
    "    filtered_df = df[df['rating'] >= min_rating]\n",
    "    if genre:\n",
    "        filtered_df = filtered_df[filtered_df['genre'].str.lower() == genre.lower()]\n",
    "    if author:\n",
    "        filtered_df = filtered_df[filtered_df['author'].str.contains(author,case=FALSE,na=False)]\n",
    "    if year:\n",
    "        filtered_df = filtered_df[filtered_df['year'] == year]\n",
    "    \n",
    "    # Select random books from the filtered dataset\n",
    "    if  not filtered_df.empty:\n",
    "        recommendations = filtered_df.sample(min(num_books, len(filtered_df)))\n",
    "    else:\n",
    "        recommendations = pd.DataFrame()\n",
    "    \n",
    "    \n",
    "    # Format the results\n",
    "    \n",
    "    if recommendations is not None and not recommendations.empty:\n",
    "        return recommendations[['name', 'author', 'rating', 'year', 'genre']].to_dict(orient='records')\n",
    "    else:\n",
    "        return \"No books found matching your criteria. Try adjusting your filters.\"\n",
    "\n"
   ]
  },
  {
   "cell_type": "code",
   "execution_count": 16,
   "id": "ec45c52d-1e1e-45d6-8e01-f0d156451185",
   "metadata": {},
   "outputs": [
    {
     "name": "stdout",
     "output_type": "stream",
     "text": [
      "WELCOME TO BOOK RECOMMENDATION CHATBOT!\n"
     ]
    },
    {
     "name": "stdin",
     "output_type": "stream",
     "text": [
      "Enter your prefferd Author(or press Enter to skip):  \n",
      "Enter minimum rating (0-5) (or press Enter to skip):  3\n",
      "Enter your prefferd genre(or press Enter to skip):  fiction\n",
      "Enter your prefferd year of puplication \n"
     ]
    },
    {
     "name": "stdout",
     "output_type": "stream",
     "text": [
      "\n",
      "RECOMMENDED BOOKS:\n",
      "Watchmen by Alan Moore (Rating: 4.8, Year: 2009, Genre: Fiction)\n",
      "The Goldfinch: A Novel (Pulitzer Prize for Fiction) by Donna Tartt (Rating: 3.9, Year: 2013, Genre: Fiction)\n",
      "Eclipse (Twilight Sagas) by Stephenie Meyer (Rating: 4.7, Year: 2009, Genre: Fiction)\n",
      "Harry Potter Coloring Book by Scholastic (Rating: 4.7, Year: 2015, Genre: Non Fiction)\n",
      "Origin: A Novel (Robert Langdon) by Dan Brown (Rating: 4.3, Year: 2017, Genre: Fiction)\n",
      "Barefoot Contessa, How Easy Is That?: Fabulous Recipes & Easy Tips by Ina Garten (Rating: 4.7, Year: 2010, Genre: Non Fiction)\n",
      "The Going-To-Bed Book by Sandra Boynton (Rating: 4.8, Year: 2016, Genre: Childrens)\n",
      "Fifty Shades Darker by E L James (Rating: 4.4, Year: 2012, Genre: Fiction)\n",
      "The Lost Symbol by Dan Brown (Rating: 4.2, Year: 2009, Genre: Fiction)\n",
      "The Wonderful Things You Will Be by Emily Winfield Martin (Rating: 4.9, Year: 2016, Genre: Childrens)\n"
     ]
    },
    {
     "name": "stdin",
     "output_type": "stream",
     "text": [
      "\n",
      "Would you like another recommendation? (yes/no):  no\n"
     ]
    },
    {
     "name": "stdout",
     "output_type": "stream",
     "text": [
      "Thank you for using the chatbot. Happy reading!\n"
     ]
    }
   ],
   "source": [
    "def chatbot():\n",
    "    print(\"WELCOME TO BOOK RECOMMENDATION CHATBOT!\")\n",
    "    while True:\n",
    "        genre = input(\"Enter your prefferd Author(or press Enter to skip): \")\n",
    "        min_rating = input(\"Enter minimum rating (0-5) (or press Enter to skip): \")\n",
    "        year = input(\"Enter your prefferd genre(or press Enter to skip): \")\n",
    "        author= input(\"Enter your prefferd year of puplication\")\n",
    "        \n",
    "        min_rating = float(min_rating) if min_rating else 0\n",
    "        year = int(year) if year.isdigit() else None\n",
    "        \n",
    "        recommendations = recommend_books(genre=genre, min_rating=min_rating, year=year)\n",
    "        print(\"\\nRECOMMENDED BOOKS:\")\n",
    "        if isinstance(recommendations, str):\n",
    "            print(recommendations)\n",
    "        else:\n",
    "            for book in recommendations:\n",
    "                print(f\"{book['name']} by {book['author']} (Rating: {book['rating']}, Year: {book['year']}, Genre: {book['genre']})\")\n",
    "        \n",
    "        another = input(\"\\nWould you like another recommendation? (yes/no): \")\n",
    "        if another.lower() != \"yes\":\n",
    "            print(\"Thank you for using the chatbot. Happy reading!\")\n",
    "            break\n",
    "\n",
    "# Run chatbot\n",
    "if __name__ == \"__main__\":\n",
    "    chatbot()\n"
   ]
  },
  {
   "cell_type": "markdown",
   "id": "9436d0a9-9b3a-4386-a217-e763f90c11e2",
   "metadata": {},
   "source": [
    "## Recommendation Logic\n",
    "The chatbot uses Filtering Techniques on the dataset to recommend books based on user input\n",
    "\n",
    "#### Filtering steps\n",
    "1. Genre matching:\n",
    "   if the user provides a genre(eg,\"fiction\"), it filters books belonging to that genre\n",
    "\n",
    "2. Minimum Rating Filter:\n",
    "   if the user provides a minimum rating (eg.4.5), the chatbot selects books with ratings greater than or to this value\n",
    "\n",
    "4. Puplication year:\n",
    "if the user provides a year,(eg,2013), the chatbot keeps books published within that year\n",
    "\n",
    "5. Return Top 10 Books\n",
    "the chatbot returns the first 10 matching books as recommendations\n",
    "\n",
    "6. Author search:\n",
    "If the user provides an author's name, the chatbot seraches for books by that author.\n",
    "\n",
    "\n",
    "   "
   ]
  },
  {
   "cell_type": "markdown",
   "id": "1dc3ed45-5c05-47b6-bbeb-4493aac6dbf5",
   "metadata": {},
   "source": [
    "## ChatBot Flow\n",
    "The chatbot follows a structured user interaction flow, guiding users through the process of finding book recommendations.\n",
    " 1. User Inputs Preferences, the user enters their desired genre, author,minimum-rate\n",
    " \n",
    " 2. Data Processing and Filtering, the chatbot applies filtering to the dataset based on the user'input.\n",
    " \n",
    " 3. Generate Recommendations, If books match the user's criteria, the chatbot displays the top 10 recommendations in a table.\n",
    " if no books match, the chatbot displays \"No books found matching your criteria. Try adjusting your filters\".\n",
    " \n",
    " 4. User can modify serch criteria, the user can change their preference and submit a new request"
   ]
  }
 ],
 "metadata": {
  "kernelspec": {
   "display_name": "Python 3 (ipykernel)",
   "language": "python",
   "name": "python3"
  },
  "language_info": {
   "codemirror_mode": {
    "name": "ipython",
    "version": 3
   },
   "file_extension": ".py",
   "mimetype": "text/x-python",
   "name": "python",
   "nbconvert_exporter": "python",
   "pygments_lexer": "ipython3",
   "version": "3.11.8"
  }
 },
 "nbformat": 4,
 "nbformat_minor": 5
}
